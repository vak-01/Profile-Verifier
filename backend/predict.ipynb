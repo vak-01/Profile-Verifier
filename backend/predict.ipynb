{
 "cells": [
  {
   "cell_type": "code",
   "execution_count": 4,
   "metadata": {},
   "outputs": [],
   "source": [
    "import sqlite3\n",
    "import pandas as pd\n",
    "from sklearn.tree import DecisionTreeClassifier\n",
    "import pickle\n",
    "\n",
    "# connect to the sqlite database\n",
    "conn = sqlite3.connect('userData.db')\n",
    "\n",
    "# load the data from the database into a pandas dataframe\n",
    "df = pd.read_sql_query(\"SELECT * from user_data\", conn)\n",
    "\n",
    "# define the feature columns\n",
    "feature_cols = ['userFollowerCount', 'userFollowingCount', 'userBiographyLength', 'userMediaCount', 'userHasProfilPic', 'userIsPrivate', 'usernameDigitCount', 'usernameLength']\n",
    "\n",
    "# split the data into training and testing sets\n",
    "X_train = df[feature_cols]\n",
    "y_train = df['isFake']\n",
    "\n",
    "# train a decision tree classifier on the training data\n",
    "clf = DecisionTreeClassifier()\n",
    "clf.fit(X_train, y_train)\n",
    "\n",
    "# save the trained model as a pickle file\n",
    "with open('model.pkl', 'wb') as f:\n",
    "    pickle.dump(clf, f)"
   ]
  }
 ],
 "metadata": {
  "kernelspec": {
   "display_name": "Python 3",
   "language": "python",
   "name": "python3"
  },
  "language_info": {
   "codemirror_mode": {
    "name": "ipython",
    "version": 3
   },
   "file_extension": ".py",
   "mimetype": "text/x-python",
   "name": "python",
   "nbconvert_exporter": "python",
   "pygments_lexer": "ipython3",
   "version": "3.11.2 (tags/v3.11.2:878ead1, Feb  7 2023, 16:38:35) [MSC v.1934 64 bit (AMD64)]"
  },
  "orig_nbformat": 4,
  "vscode": {
   "interpreter": {
    "hash": "c5365dfb90ce2739f99ce43cef6481251824d428671ace249f949bb07d417a8d"
   }
  }
 },
 "nbformat": 4,
 "nbformat_minor": 2
}
